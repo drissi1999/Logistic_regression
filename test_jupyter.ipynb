{
 "cells": [
  {
   "cell_type": "code",
   "execution_count": 151,
   "metadata": {},
   "outputs": [],
   "source": [
    "import numpy as np\n",
    "import pandas as pd\n",
    "from sklearn.preprocessing import MinMaxScaler\n",
    "from sklearn.model_selection import KFold\n",
    "from sklearn.metrics import confusion_matrix, recall_score\n",
    "from sklearn.svm import SVC\n",
    "from sklearn.ensemble import RandomForestClassifier\n",
    "from sklearn.linear_model import LogisticRegression\n",
    "from sklearn.neighbors import KNeighborsClassifier\n",
    "import joblib"
   ]
  },
  {
   "cell_type": "code",
   "execution_count": 152,
   "metadata": {},
   "outputs": [],
   "source": [
    "# Load dataset\n",
    "df = pd.read_csv(\"./nba_logreg.csv\")"
   ]
  },
  {
   "cell_type": "code",
   "execution_count": 153,
   "metadata": {},
   "outputs": [
    {
     "name": "stdout",
     "output_type": "stream",
     "text": [
      "Index(['Name', 'GP', 'MIN', 'PTS', 'FGM', 'FGA', 'FG%', '3P Made', '3PA',\n",
      "       '3P%', 'FTM', 'FTA', 'FT%', 'OREB', 'DREB', 'REB', 'AST', 'STL', 'BLK',\n",
      "       'TOV', 'TARGET_5Yrs'],\n",
      "      dtype='object')\n"
     ]
    }
   ],
   "source": [
    "# Print the column names to inspect them\n",
    "print(df.columns)"
   ]
  },
  {
   "cell_type": "code",
   "execution_count": 154,
   "metadata": {},
   "outputs": [
    {
     "name": "stdout",
     "output_type": "stream",
     "text": [
      "\n",
      "Missing values in each column:\n",
      "Name            0\n",
      "GP              0\n",
      "MIN             0\n",
      "PTS             0\n",
      "FGM             0\n",
      "FGA             0\n",
      "FG%             0\n",
      "3P Made         0\n",
      "3PA             0\n",
      "3P%            11\n",
      "FTM             0\n",
      "FTA             0\n",
      "FT%             0\n",
      "OREB            0\n",
      "DREB            0\n",
      "REB             0\n",
      "AST             0\n",
      "STL             0\n",
      "BLK             0\n",
      "TOV             0\n",
      "TARGET_5Yrs     0\n",
      "dtype: int64\n"
     ]
    }
   ],
   "source": [
    "# Checking for missing values\n",
    "print(\"\\nMissing values in each column:\")\n",
    "print(df.isnull().sum())"
   ]
  },
  {
   "cell_type": "code",
   "execution_count": 155,
   "metadata": {},
   "outputs": [],
   "source": [
    "df = df.dropna()"
   ]
  },
  {
   "cell_type": "code",
   "execution_count": 156,
   "metadata": {},
   "outputs": [],
   "source": [
    "def score_classifier(dataset, classifier, labels):\n",
    "    \"\"\"\n",
    "    Performs 3 random trainings/tests to build a confusion matrix and prints results with precision and recall scores\n",
    "    :param dataset: the dataset to work on\n",
    "    :param classifier: the classifier to use\n",
    "    :param labels: the labels used for training and validation\n",
    "    :return: recall score\n",
    "    \"\"\"\n",
    "    kf = KFold(n_splits=3, random_state=50, shuffle=True)\n",
    "    confusion_mat = np.zeros((2, 2))\n",
    "    recall = 0\n",
    "    for training_ids, test_ids in kf.split(dataset):\n",
    "        training_set = dataset[training_ids]\n",
    "        training_labels = labels[training_ids]\n",
    "        test_set = dataset[test_ids]\n",
    "        test_labels = labels[test_ids]\n",
    "        classifier.fit(training_set, training_labels)\n",
    "        predicted_labels = classifier.predict(test_set)\n",
    "        confusion_mat += confusion_matrix(test_labels, predicted_labels)\n",
    "        recall += recall_score(test_labels, predicted_labels)\n",
    "    recall /= 3\n",
    "    print(confusion_mat)\n",
    "    print(f'Recall score: {recall}')\n",
    "    return recall"
   ]
  },
  {
   "cell_type": "code",
   "execution_count": 157,
   "metadata": {},
   "outputs": [],
   "source": [
    "# Extract names, labels, features names and values\n",
    "names = df['Name'].values.tolist()  # players names\n",
    "labels = df['TARGET_5Yrs'].values  # labels\n",
    "paramset = df.drop(['TARGET_5Yrs', 'Name'], axis=1).columns.values\n",
    "df_vals = df.drop(['TARGET_5Yrs', 'Name'], axis=1).values"
   ]
  },
  {
   "cell_type": "code",
   "execution_count": 158,
   "metadata": {},
   "outputs": [],
   "source": [
    "# Normalize dataset\n",
    "X = MinMaxScaler().fit_transform(df_vals)"
   ]
  },
  {
   "cell_type": "code",
   "execution_count": 159,
   "metadata": {},
   "outputs": [],
   "source": [
    "# Evaluate different classifiers\n",
    "classifiers = {\n",
    "    'Support Vector Classifier': SVC(),\n",
    "    'Random Forest': RandomForestClassifier(),\n",
    "    'Logistic Regression': LogisticRegression(),\n",
    "    'K-Neighbors': KNeighborsClassifier()\n",
    "}"
   ]
  },
  {
   "cell_type": "code",
   "execution_count": 160,
   "metadata": {},
   "outputs": [],
   "source": [
    "best_classifier = None\n",
    "best_recall = 0"
   ]
  },
  {
   "cell_type": "code",
   "execution_count": 161,
   "metadata": {},
   "outputs": [
    {
     "name": "stdout",
     "output_type": "stream",
     "text": [
      "Evaluating Support Vector Classifier\n",
      "[[257. 246.]\n",
      " [155. 671.]]\n",
      "Recall score: 0.8137119368871194\n",
      "Evaluating Random Forest\n",
      "[[258. 245.]\n",
      " [177. 649.]]\n",
      "Recall score: 0.7865201590110349\n",
      "Evaluating Logistic Regression\n",
      "[[257. 246.]\n",
      " [146. 680.]]\n",
      "Recall score: 0.8241616284499497\n",
      "Evaluating K-Neighbors\n",
      "[[244. 259.]\n",
      " [204. 622.]]\n",
      "Recall score: 0.753738725454054\n",
      "Best classifier: LogisticRegression()\n",
      "Best recall score: 0.8241616284499497\n"
     ]
    }
   ],
   "source": [
    "for name, clf in classifiers.items():\n",
    "    print(f\"Evaluating {name}\")\n",
    "    recall = score_classifier(X, clf, labels)\n",
    "    if recall > best_recall:\n",
    "        best_recall = recall\n",
    "        best_classifier = clf\n",
    "\n",
    "print(f'Best classifier: {best_classifier}')\n",
    "print(f'Best recall score: {best_recall}')"
   ]
  },
  {
   "cell_type": "code",
   "execution_count": 162,
   "metadata": {},
   "outputs": [
    {
     "data": {
      "text/plain": [
       "['scaler.pkl']"
      ]
     },
     "execution_count": 162,
     "metadata": {},
     "output_type": "execute_result"
    }
   ],
   "source": [
    "# Save the best model\n",
    "joblib.dump(best_classifier, 'best_nba_classifier.pkl')\n",
    "joblib.dump(MinMaxScaler().fit(df_vals), 'scaler.pkl')"
   ]
  },
  {
   "cell_type": "code",
   "execution_count": null,
   "metadata": {},
   "outputs": [],
   "source": []
  }
 ],
 "metadata": {
  "kernelspec": {
   "display_name": "Python 3",
   "language": "python",
   "name": "python3"
  },
  "language_info": {
   "codemirror_mode": {
    "name": "ipython",
    "version": 3
   },
   "file_extension": ".py",
   "mimetype": "text/x-python",
   "name": "python",
   "nbconvert_exporter": "python",
   "pygments_lexer": "ipython3",
   "version": "3.11.3"
  }
 },
 "nbformat": 4,
 "nbformat_minor": 2
}
